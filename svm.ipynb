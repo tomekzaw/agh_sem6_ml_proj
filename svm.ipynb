{
 "cells": [
  {
   "cell_type": "code",
   "execution_count": 1,
   "metadata": {},
   "outputs": [],
   "source": [
    "import tensorflow as tf\n",
    "from sklearn.utils import resample\n",
    "from sklearn.svm import SVC\n",
    "from sklearn.metrics import accuracy_score\n",
    "from math import pow\n",
    "import pandas as pd\n",
    "import seaborn as sns\n",
    "import matplotlib.pyplot as plt\n",
    "\n",
    "plt.style.use('ggplot')"
   ]
  },
  {
   "cell_type": "code",
   "execution_count": 2,
   "metadata": {},
   "outputs": [
    {
     "data": {
      "text/plain": [
       "((5000, 784), (5000,), (1000, 784), (1000,))"
      ]
     },
     "execution_count": 2,
     "metadata": {},
     "output_type": "execute_result"
    }
   ],
   "source": [
    "(X_train, y_train), (X_test, y_test) = tf.keras.datasets.mnist.load_data()\n",
    "\n",
    "X_train = X_train.reshape(len(X_train), -1)\n",
    "y_train = y_train.reshape(len(y_train))\n",
    "\n",
    "X_test = X_test.reshape(len(X_test), -1)\n",
    "y_test = y_test.reshape(len(y_test))\n",
    "\n",
    "X_train, y_train = resample(X_train, y_train, random_state=0, n_samples=5000)\n",
    "X_test, y_test = resample(X_test, y_test, random_state=0, n_samples=1000)\n",
    "\n",
    "X_train.shape, y_train.shape, X_test.shape, y_test.shape"
   ]
  },
  {
   "cell_type": "code",
   "execution_count": 3,
   "metadata": {},
   "outputs": [
    {
     "data": {
      "text/plain": [
       "SVC(C=1.0, break_ties=False, cache_size=200, class_weight=None, coef0=0.0,\n",
       "    decision_function_shape='ovr', degree=3, gamma='scale', kernel='rbf',\n",
       "    max_iter=-1, probability=False, random_state=None, shrinking=True,\n",
       "    tol=0.001, verbose=False)"
      ]
     },
     "execution_count": 3,
     "metadata": {},
     "output_type": "execute_result"
    }
   ],
   "source": [
    "svc = SVC()\n",
    "svc.fit(X_train, y_train)"
   ]
  },
  {
   "cell_type": "code",
   "execution_count": 4,
   "metadata": {},
   "outputs": [
    {
     "data": {
      "text/plain": [
       "0.958"
      ]
     },
     "execution_count": 4,
     "metadata": {},
     "output_type": "execute_result"
    }
   ],
   "source": [
    "y_pred = svc.predict(X_test)\n",
    "accuracy_score(y_test, y_pred)"
   ]
  },
  {
   "cell_type": "code",
   "execution_count": 6,
   "metadata": {},
   "outputs": [],
   "source": [
    "def cs():\n",
    "    for e in range(-3, 3+1):\n",
    "        for b in 1, 2, 3, 5, 8:\n",
    "            yield b * pow(10, e)\n",
    "    yield 10000"
   ]
  },
  {
   "cell_type": "code",
   "execution_count": 7,
   "metadata": {},
   "outputs": [
    {
     "data": {
      "text/plain": [
       "[0.001,\n",
       " 0.002,\n",
       " 0.003,\n",
       " 0.005,\n",
       " 0.008,\n",
       " 0.01,\n",
       " 0.02,\n",
       " 0.03,\n",
       " 0.05,\n",
       " 0.08,\n",
       " 0.1,\n",
       " 0.2,\n",
       " 0.30000000000000004,\n",
       " 0.5,\n",
       " 0.8,\n",
       " 1.0,\n",
       " 2.0,\n",
       " 3.0,\n",
       " 5.0,\n",
       " 8.0,\n",
       " 10.0,\n",
       " 20.0,\n",
       " 30.0,\n",
       " 50.0,\n",
       " 80.0,\n",
       " 100.0,\n",
       " 200.0,\n",
       " 300.0,\n",
       " 500.0,\n",
       " 800.0,\n",
       " 1000.0,\n",
       " 2000.0,\n",
       " 3000.0,\n",
       " 5000.0,\n",
       " 8000.0,\n",
       " 10000]"
      ]
     },
     "execution_count": 7,
     "metadata": {},
     "output_type": "execute_result"
    }
   ],
   "source": [
    "list(cs())"
   ]
  },
  {
   "cell_type": "code",
   "execution_count": 8,
   "metadata": {
    "scrolled": false
   },
   "outputs": [
    {
     "name": "stdout",
     "output_type": "stream",
     "text": [
      "0.001 linear 0.917\n",
      "0.001 poly 0.121\n",
      "0.001 rbf 0.109\n",
      "0.001 sigmoid 0.109\n",
      "0.002 linear 0.917\n",
      "0.002 poly 0.173\n",
      "0.002 rbf 0.109\n",
      "0.002 sigmoid 0.109\n",
      "0.003 linear 0.917\n",
      "0.003 poly 0.239\n",
      "0.003 rbf 0.114\n",
      "0.003 sigmoid 0.129\n",
      "0.005 linear 0.917\n",
      "0.005 poly 0.364\n",
      "0.005 rbf 0.24\n",
      "0.005 sigmoid 0.248\n",
      "0.008 linear 0.917\n",
      "0.008 poly 0.501\n",
      "0.008 rbf 0.418\n",
      "0.008 sigmoid 0.422\n",
      "0.01 linear 0.917\n",
      "0.01 poly 0.578\n",
      "0.01 rbf 0.529\n",
      "0.01 sigmoid 0.527\n",
      "0.02 linear 0.917\n",
      "0.02 poly 0.729\n",
      "0.02 rbf 0.793\n",
      "0.02 sigmoid 0.753\n",
      "0.03 linear 0.917\n",
      "0.03 poly 0.776\n",
      "0.03 rbf 0.867\n",
      "0.03 sigmoid 0.831\n",
      "0.05 linear 0.917\n",
      "0.05 poly 0.843\n",
      "0.05 rbf 0.893\n",
      "0.05 sigmoid 0.858\n",
      "0.08 linear 0.917\n",
      "0.08 poly 0.872\n",
      "0.08 rbf 0.904\n",
      "0.08 sigmoid 0.869\n",
      "0.1 linear 0.917\n",
      "0.1 poly 0.882\n",
      "0.1 rbf 0.914\n",
      "0.1 sigmoid 0.87\n",
      "0.2 linear 0.917\n",
      "0.2 poly 0.911\n",
      "0.2 rbf 0.93\n",
      "0.2 sigmoid 0.876\n",
      "0.30000000000000004 linear 0.917\n",
      "0.30000000000000004 poly 0.923\n",
      "0.30000000000000004 rbf 0.933\n",
      "0.30000000000000004 sigmoid 0.88\n",
      "0.5 linear 0.917\n",
      "0.5 poly 0.931\n",
      "0.5 rbf 0.943\n",
      "0.5 sigmoid 0.871\n",
      "0.8 linear 0.917\n",
      "0.8 poly 0.941\n",
      "0.8 rbf 0.951\n",
      "0.8 sigmoid 0.861\n",
      "1.0 linear 0.917\n",
      "1.0 poly 0.946\n",
      "1.0 rbf 0.958\n",
      "1.0 sigmoid 0.86\n",
      "2.0 linear 0.917\n",
      "2.0 poly 0.95\n",
      "2.0 rbf 0.963\n",
      "2.0 sigmoid 0.836\n",
      "3.0 linear 0.917\n",
      "3.0 poly 0.954\n",
      "3.0 rbf 0.964\n",
      "3.0 sigmoid 0.825\n",
      "5.0 linear 0.917\n",
      "5.0 poly 0.955\n",
      "5.0 rbf 0.962\n",
      "5.0 sigmoid 0.805\n",
      "8.0 linear 0.917\n",
      "8.0 poly 0.954\n",
      "8.0 rbf 0.961\n",
      "8.0 sigmoid 0.792\n",
      "10.0 linear 0.917\n",
      "10.0 poly 0.951\n",
      "10.0 rbf 0.961\n",
      "10.0 sigmoid 0.788\n",
      "20.0 linear 0.917\n",
      "20.0 poly 0.95\n",
      "20.0 rbf 0.961\n",
      "20.0 sigmoid 0.785\n",
      "30.0 linear 0.917\n",
      "30.0 poly 0.95\n",
      "30.0 rbf 0.961\n",
      "30.0 sigmoid 0.779\n",
      "50.0 linear 0.917\n",
      "50.0 poly 0.949\n",
      "50.0 rbf 0.961\n",
      "50.0 sigmoid 0.782\n",
      "80.0 linear 0.917\n",
      "80.0 poly 0.949\n",
      "80.0 rbf 0.961\n",
      "80.0 sigmoid 0.775\n",
      "100.0 linear 0.917\n",
      "100.0 poly 0.949\n",
      "100.0 rbf 0.961\n",
      "100.0 sigmoid 0.773\n",
      "200.0 linear 0.917\n",
      "200.0 poly 0.949\n",
      "200.0 rbf 0.961\n",
      "200.0 sigmoid 0.777\n",
      "300.0 linear 0.917\n",
      "300.0 poly 0.949\n",
      "300.0 rbf 0.961\n",
      "300.0 sigmoid 0.785\n",
      "500.0 linear 0.917\n",
      "500.0 poly 0.949\n",
      "500.0 rbf 0.961\n",
      "500.0 sigmoid 0.778\n",
      "800.0 linear 0.917\n",
      "800.0 poly 0.949\n",
      "800.0 rbf 0.961\n",
      "800.0 sigmoid 0.775\n",
      "1000.0 linear 0.917\n",
      "1000.0 poly 0.949\n",
      "1000.0 rbf 0.961\n",
      "1000.0 sigmoid 0.776\n",
      "2000.0 linear 0.917\n",
      "2000.0 poly 0.949\n",
      "2000.0 rbf 0.961\n",
      "2000.0 sigmoid 0.77\n",
      "3000.0 linear 0.917\n",
      "3000.0 poly 0.949\n",
      "3000.0 rbf 0.961\n",
      "3000.0 sigmoid 0.774\n",
      "5000.0 linear 0.917\n",
      "5000.0 poly 0.949\n",
      "5000.0 rbf 0.961\n",
      "5000.0 sigmoid 0.769\n",
      "8000.0 linear 0.917\n",
      "8000.0 poly 0.949\n",
      "8000.0 rbf 0.961\n",
      "8000.0 sigmoid 0.775\n",
      "10000 linear 0.917\n",
      "10000 poly 0.949\n",
      "10000 rbf 0.961\n",
      "10000 sigmoid 0.775\n"
     ]
    }
   ],
   "source": [
    "def gen():\n",
    "    for C in cs():\n",
    "        for kernel in 'linear', 'poly', 'rbf', 'sigmoid':\n",
    "            svc = SVC(C=C, kernel=kernel)\n",
    "            svc.fit(X_train, y_train)  \n",
    "            y_pred = svc.predict(X_test)\n",
    "            accuracy = accuracy_score(y_test, y_pred)\n",
    "            print(C, kernel, accuracy)\n",
    "            yield C, kernel, accuracy\n",
    "            \n",
    "results = pd.DataFrame(gen(), columns=['C', 'kernel', 'accuracy'])\n",
    "results.to_csv('mnist/csv/2_svm.csv')"
   ]
  },
  {
   "cell_type": "code",
   "execution_count": 31,
   "metadata": {},
   "outputs": [],
   "source": [
    "results = pd.read_csv('mnist/csv/2_svm.csv')"
   ]
  },
  {
   "cell_type": "code",
   "execution_count": 32,
   "metadata": {},
   "outputs": [
    {
     "data": {
      "text/html": [
       "<div>\n",
       "<style scoped>\n",
       "    .dataframe tbody tr th:only-of-type {\n",
       "        vertical-align: middle;\n",
       "    }\n",
       "\n",
       "    .dataframe tbody tr th {\n",
       "        vertical-align: top;\n",
       "    }\n",
       "\n",
       "    .dataframe thead th {\n",
       "        text-align: right;\n",
       "    }\n",
       "</style>\n",
       "<table border=\"1\" class=\"dataframe\">\n",
       "  <thead>\n",
       "    <tr style=\"text-align: right;\">\n",
       "      <th></th>\n",
       "      <th>Unnamed: 0</th>\n",
       "      <th>C</th>\n",
       "      <th>kernel</th>\n",
       "      <th>accuracy</th>\n",
       "    </tr>\n",
       "  </thead>\n",
       "  <tbody>\n",
       "    <tr>\n",
       "      <th>70</th>\n",
       "      <td>70</td>\n",
       "      <td>3.000</td>\n",
       "      <td>rbf</td>\n",
       "      <td>0.964</td>\n",
       "    </tr>\n",
       "    <tr>\n",
       "      <th>66</th>\n",
       "      <td>66</td>\n",
       "      <td>2.000</td>\n",
       "      <td>rbf</td>\n",
       "      <td>0.963</td>\n",
       "    </tr>\n",
       "    <tr>\n",
       "      <th>74</th>\n",
       "      <td>74</td>\n",
       "      <td>5.000</td>\n",
       "      <td>rbf</td>\n",
       "      <td>0.962</td>\n",
       "    </tr>\n",
       "    <tr>\n",
       "      <th>122</th>\n",
       "      <td>122</td>\n",
       "      <td>1000.000</td>\n",
       "      <td>rbf</td>\n",
       "      <td>0.961</td>\n",
       "    </tr>\n",
       "    <tr>\n",
       "      <th>82</th>\n",
       "      <td>82</td>\n",
       "      <td>10.000</td>\n",
       "      <td>rbf</td>\n",
       "      <td>0.961</td>\n",
       "    </tr>\n",
       "    <tr>\n",
       "      <th>...</th>\n",
       "      <td>...</td>\n",
       "      <td>...</td>\n",
       "      <td>...</td>\n",
       "      <td>...</td>\n",
       "    </tr>\n",
       "    <tr>\n",
       "      <th>10</th>\n",
       "      <td>10</td>\n",
       "      <td>0.003</td>\n",
       "      <td>rbf</td>\n",
       "      <td>0.114</td>\n",
       "    </tr>\n",
       "    <tr>\n",
       "      <th>7</th>\n",
       "      <td>7</td>\n",
       "      <td>0.002</td>\n",
       "      <td>sigmoid</td>\n",
       "      <td>0.109</td>\n",
       "    </tr>\n",
       "    <tr>\n",
       "      <th>6</th>\n",
       "      <td>6</td>\n",
       "      <td>0.002</td>\n",
       "      <td>rbf</td>\n",
       "      <td>0.109</td>\n",
       "    </tr>\n",
       "    <tr>\n",
       "      <th>3</th>\n",
       "      <td>3</td>\n",
       "      <td>0.001</td>\n",
       "      <td>sigmoid</td>\n",
       "      <td>0.109</td>\n",
       "    </tr>\n",
       "    <tr>\n",
       "      <th>2</th>\n",
       "      <td>2</td>\n",
       "      <td>0.001</td>\n",
       "      <td>rbf</td>\n",
       "      <td>0.109</td>\n",
       "    </tr>\n",
       "  </tbody>\n",
       "</table>\n",
       "<p>144 rows × 4 columns</p>\n",
       "</div>"
      ],
      "text/plain": [
       "     Unnamed: 0         C   kernel  accuracy\n",
       "70           70     3.000      rbf     0.964\n",
       "66           66     2.000      rbf     0.963\n",
       "74           74     5.000      rbf     0.962\n",
       "122         122  1000.000      rbf     0.961\n",
       "82           82    10.000      rbf     0.961\n",
       "..          ...       ...      ...       ...\n",
       "10           10     0.003      rbf     0.114\n",
       "7             7     0.002  sigmoid     0.109\n",
       "6             6     0.002      rbf     0.109\n",
       "3             3     0.001  sigmoid     0.109\n",
       "2             2     0.001      rbf     0.109\n",
       "\n",
       "[144 rows x 4 columns]"
      ]
     },
     "execution_count": 32,
     "metadata": {},
     "output_type": "execute_result"
    }
   ],
   "source": [
    "results.sort_values(by='accuracy', ascending=False)"
   ]
  },
  {
   "cell_type": "code",
   "execution_count": 30,
   "metadata": {},
   "outputs": [
    {
     "data": {
      "image/png": "[encoded data removed]",
      "text/plain": [
       "<Figure size 720x144 with 2 Axes>"
      ]
     },
     "metadata": {},
     "output_type": "display_data"
    }
   ],
   "source": [
    "data = results.pivot('kernel', 'C', 'accuracy')\n",
    "cmap = sns.diverging_palette(10, 220, sep=80, n=10000)\n",
    "fig, ax = plt.subplots(figsize=(10, 2))\n",
    "sns.heatmap(data, cmap='YlGnBu', ax=ax)\n",
    "ax.set(xticklabels=[str(round(c, 3)) for c in cs()])\n",
    "plt.subplots_adjust(bottom=0.5)\n",
    "fig.tight_layout()\n",
    "fig.savefig('mnist/plots/svm_heatmap.png', dpi=600)"
   ]
  }
 ],
 "metadata": {
  "kernelspec": {
   "display_name": "Python 3",
   "language": "python",
   "name": "python3"
  },
  "language_info": {
   "codemirror_mode": {
    "name": "ipython",
    "version": 3
   },
   "file_extension": ".py",
   "mimetype": "text/x-python",
   "name": "python",
   "nbconvert_exporter": "python",
   "pygments_lexer": "ipython3",
   "version": "3.8.2"
  }
 },
 "nbformat": 4,
 "nbformat_minor": 4
}

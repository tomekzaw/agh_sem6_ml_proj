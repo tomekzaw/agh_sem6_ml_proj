{
 "cells": [
  {
   "cell_type": "code",
   "execution_count": 1,
   "metadata": {},
   "outputs": [],
   "source": [
    "import numpy as np\n",
    "import tensorflow as tf\n",
    "from tensorflow.keras.models import Sequential, Model\n",
    "from tensorflow.keras.layers import Input, Dense, Activation, Conv2D, MaxPooling2D, Flatten, Dropout, Concatenate\n",
    "from tensorflow.keras.datasets import fashion_mnist, mnist\n",
    "from tensorflow.keras.optimizers import SGD\n",
    "from tensorflow.keras.backend import clear_session\n",
    "from tensorflow.keras.utils import plot_model\n",
    "from sklearn.utils import resample"
   ]
  },
  {
   "cell_type": "code",
   "execution_count": 2,
   "metadata": {},
   "outputs": [],
   "source": [
    "(X_train_org, y_train_org), (X_test_org, y_test_org) = fashion_mnist.load_data()\n",
    "\n",
    "X_train_org = X_train_org.reshape(-1, 28, 28, 1)\n",
    "X_test_org = X_test_org.reshape(-1, 28, 28, 1)\n",
    "\n",
    "X_train_org = X_train_org.astype('float32')\n",
    "X_test_org = X_test_org.astype('float32')\n",
    "X_train_org /= 255\n",
    "X_test_org /= 255\n",
    "\n",
    "X_train_org, y_train_org = resample(X_train_org, y_train_org, random_state=0)\n",
    "X_test_org, y_test_org = resample(X_test_org, y_test_org, random_state=0)"
   ]
  },
  {
   "cell_type": "code",
   "execution_count": 3,
   "metadata": {},
   "outputs": [],
   "source": [
    "def get_train_test_data(train_samples, test_samples):\n",
    "    X_train = X_train_org[:train_samples]\n",
    "    y_train = y_train_org[:train_samples]\n",
    "    X_test = X_test_org[:test_samples]\n",
    "    y_test = y_test_org[:test_samples]\n",
    "    return X_train, y_train, X_test, y_test"
   ]
  },
  {
   "cell_type": "code",
   "execution_count": 4,
   "metadata": {},
   "outputs": [],
   "source": [
    "def train_model(model, train_samples, test_samples, epochs=10, optimizer='adam', n=1):   \n",
    "    X_train, y_train, X_test, y_test = get_train_test_data(train_samples, test_samples)  \n",
    "    \n",
    "    if n > 1:\n",
    "        X_train = [X_train] * n\n",
    "        X_test = [X_test] * n\n",
    "    \n",
    "    clear_session()\n",
    "    np.random.seed(0x859)\n",
    "    tf.random.set_seed(0x859)\n",
    "    \n",
    "    model.summary()    \n",
    "    model.compile(optimizer=optimizer,\n",
    "                  loss='sparse_categorical_crossentropy',\n",
    "                  metrics=['accuracy'])\n",
    "    model.fit(X_train, y_train, epochs=epochs, validation_data=(X_test, y_test), verbose=True)"
   ]
  },
  {
   "cell_type": "code",
   "execution_count": 5,
   "metadata": {},
   "outputs": [],
   "source": [
    "model_sgd_input = Input(shape=(28, 28, 1))\n",
    "model_sgd = Conv2D(32, (3,3), padding='same', activation='relu', input_shape=(28, 28, 1))(model_sgd_input)\n",
    "model_sgd = MaxPooling2D((2, 2))(model_sgd)\n",
    "model_sgd = Conv2D(16, (3,3), padding='same', activation='relu')(model_sgd)\n",
    "model_sgd = MaxPooling2D((2, 2))(model_sgd)\n",
    "model_sgd = Flatten()(model_sgd)\n",
    "model_sgd = Dense(64, activation='relu')(model_sgd)\n",
    "model_sgd = Dense(10, activation='softmax')(model_sgd)\n",
    "model_sgd = Model(inputs=model_sgd_input, outputs=model_sgd, name='model_sgd')"
   ]
  },
  {
   "cell_type": "code",
   "execution_count": 6,
   "metadata": {},
   "outputs": [
    {
     "name": "stdout",
     "output_type": "stream",
     "text": [
      "Model: \"model_sgd\"\n",
      "_________________________________________________________________\n",
      "Layer (type)                 Output Shape              Param #   \n",
      "=================================================================\n",
      "input_1 (InputLayer)         [(None, 28, 28, 1)]       0         \n",
      "_________________________________________________________________\n",
      "conv2d (Conv2D)              (None, 28, 28, 32)        320       \n",
      "_________________________________________________________________\n",
      "max_pooling2d (MaxPooling2D) (None, 14, 14, 32)        0         \n",
      "_________________________________________________________________\n",
      "conv2d_1 (Conv2D)            (None, 14, 14, 16)        4624      \n",
      "_________________________________________________________________\n",
      "max_pooling2d_1 (MaxPooling2 (None, 7, 7, 16)          0         \n",
      "_________________________________________________________________\n",
      "flatten (Flatten)            (None, 784)               0         \n",
      "_________________________________________________________________\n",
      "dense (Dense)                (None, 64)                50240     \n",
      "_________________________________________________________________\n",
      "dense_1 (Dense)              (None, 10)                650       \n",
      "=================================================================\n",
      "Total params: 55,834\n",
      "Trainable params: 55,834\n",
      "Non-trainable params: 0\n",
      "_________________________________________________________________\n",
      "Epoch 1/10\n",
      "125/125 [==============================] - 2s 18ms/step - loss: 1.2596 - accuracy: 0.5625 - val_loss: 0.7144 - val_accuracy: 0.7370\n",
      "Epoch 2/10\n",
      "125/125 [==============================] - 2s 19ms/step - loss: 0.6834 - accuracy: 0.7530 - val_loss: 0.5824 - val_accuracy: 0.7940\n",
      "Epoch 3/10\n",
      "125/125 [==============================] - 2s 15ms/step - loss: 0.5745 - accuracy: 0.7880 - val_loss: 0.5380 - val_accuracy: 0.7900\n",
      "Epoch 4/10\n",
      "125/125 [==============================] - 2s 19ms/step - loss: 0.5173 - accuracy: 0.8100 - val_loss: 0.5176 - val_accuracy: 0.8040\n",
      "Epoch 5/10\n",
      "125/125 [==============================] - 3s 22ms/step - loss: 0.4770 - accuracy: 0.8248 - val_loss: 0.5261 - val_accuracy: 0.8150\n",
      "Epoch 6/10\n",
      "125/125 [==============================] - 2s 19ms/step - loss: 0.4403 - accuracy: 0.8388 - val_loss: 0.4959 - val_accuracy: 0.8130\n",
      "Epoch 7/10\n",
      "125/125 [==============================] - 2s 17ms/step - loss: 0.4102 - accuracy: 0.8435 - val_loss: 0.4929 - val_accuracy: 0.8280\n",
      "Epoch 8/10\n",
      "125/125 [==============================] - 2s 16ms/step - loss: 0.3906 - accuracy: 0.8558 - val_loss: 0.4208 - val_accuracy: 0.8550\n",
      "Epoch 9/10\n",
      "125/125 [==============================] - 2s 16ms/step - loss: 0.3574 - accuracy: 0.8690 - val_loss: 0.4576 - val_accuracy: 0.8390\n",
      "Epoch 10/10\n",
      "125/125 [==============================] - 2s 16ms/step - loss: 0.3323 - accuracy: 0.8763 - val_loss: 0.4514 - val_accuracy: 0.8350\n"
     ]
    }
   ],
   "source": [
    "sgd = SGD(learning_rate=0.01, momentum=0.9, nesterov=True, name=\"SGD\")\n",
    "\n",
    "train_model(model_sgd, 4000, 1000, 10, optimizer=sgd)"
   ]
  },
  {
   "cell_type": "code",
   "execution_count": 7,
   "metadata": {},
   "outputs": [],
   "source": [
    "model_adam_input = Input(shape=(28, 28, 1))\n",
    "model_adam = Conv2D(32, (3,3), padding='same', activation='relu', input_shape=(28, 28, 1))(model_adam_input)\n",
    "model_adam = MaxPooling2D((2, 2))(model_adam)\n",
    "model_adam = Conv2D(16, (3,3), padding='same', activation='relu')(model_adam)\n",
    "model_adam = MaxPooling2D((2, 2))(model_adam)\n",
    "model_adam = Flatten()(model_adam)\n",
    "model_adam = Dense(64, activation='relu')(model_adam)\n",
    "model_adam = Dense(10, activation='softmax')(model_adam)\n",
    "model_adam = Model(inputs=model_adam_input, outputs=model_adam, name='model_adam')"
   ]
  },
  {
   "cell_type": "code",
   "execution_count": 8,
   "metadata": {},
   "outputs": [
    {
     "name": "stdout",
     "output_type": "stream",
     "text": [
      "Model: \"model_adam\"\n",
      "_________________________________________________________________\n",
      "Layer (type)                 Output Shape              Param #   \n",
      "=================================================================\n",
      "input_1 (InputLayer)         [(None, 28, 28, 1)]       0         \n",
      "_________________________________________________________________\n",
      "conv2d (Conv2D)              (None, 28, 28, 32)        320       \n",
      "_________________________________________________________________\n",
      "max_pooling2d (MaxPooling2D) (None, 14, 14, 32)        0         \n",
      "_________________________________________________________________\n",
      "conv2d_1 (Conv2D)            (None, 14, 14, 16)        4624      \n",
      "_________________________________________________________________\n",
      "max_pooling2d_1 (MaxPooling2 (None, 7, 7, 16)          0         \n",
      "_________________________________________________________________\n",
      "flatten (Flatten)            (None, 784)               0         \n",
      "_________________________________________________________________\n",
      "dense (Dense)                (None, 64)                50240     \n",
      "_________________________________________________________________\n",
      "dense_1 (Dense)              (None, 10)                650       \n",
      "=================================================================\n",
      "Total params: 55,834\n",
      "Trainable params: 55,834\n",
      "Non-trainable params: 0\n",
      "_________________________________________________________________\n",
      "Epoch 1/10\n",
      "125/125 [==============================] - 2s 17ms/step - loss: 1.0582 - accuracy: 0.6095 - val_loss: 0.7249 - val_accuracy: 0.7520\n",
      "Epoch 2/10\n",
      "125/125 [==============================] - 2s 16ms/step - loss: 0.6385 - accuracy: 0.7685 - val_loss: 0.5636 - val_accuracy: 0.8080\n",
      "Epoch 3/10\n",
      "125/125 [==============================] - 2s 16ms/step - loss: 0.5517 - accuracy: 0.7933 - val_loss: 0.5350 - val_accuracy: 0.7920\n",
      "Epoch 4/10\n",
      "125/125 [==============================] - 2s 18ms/step - loss: 0.4709 - accuracy: 0.8313 - val_loss: 0.4799 - val_accuracy: 0.8310\n",
      "Epoch 5/10\n",
      "125/125 [==============================] - 2s 15ms/step - loss: 0.4257 - accuracy: 0.8390 - val_loss: 0.4683 - val_accuracy: 0.8290\n",
      "Epoch 6/10\n",
      "125/125 [==============================] - 2s 16ms/step - loss: 0.3929 - accuracy: 0.8558 - val_loss: 0.4437 - val_accuracy: 0.8420\n",
      "Epoch 7/10\n",
      "125/125 [==============================] - 2s 15ms/step - loss: 0.3629 - accuracy: 0.8677 - val_loss: 0.4937 - val_accuracy: 0.8130\n",
      "Epoch 8/10\n",
      "125/125 [==============================] - 2s 16ms/step - loss: 0.3413 - accuracy: 0.8752 - val_loss: 0.4141 - val_accuracy: 0.8550\n",
      "Epoch 9/10\n",
      "125/125 [==============================] - 2s 16ms/step - loss: 0.3087 - accuracy: 0.8815 - val_loss: 0.4230 - val_accuracy: 0.8530\n",
      "Epoch 10/10\n",
      "125/125 [==============================] - 2s 15ms/step - loss: 0.2993 - accuracy: 0.8915 - val_loss: 0.4124 - val_accuracy: 0.8560\n"
     ]
    }
   ],
   "source": [
    "train_model(model_adam, 4000, 1000, 10, 'adam')"
   ]
  },
  {
   "cell_type": "code",
   "execution_count": 9,
   "metadata": {},
   "outputs": [],
   "source": [
    "for layer in model_sgd._layers:\n",
    "    layer._name = layer.name + '_sgd'\n",
    "    layer.trainable = False\n",
    "    \n",
    "for layer in model_adam._layers:\n",
    "    layer._name = layer.name + '_adam'\n",
    "    layer.trainable = False"
   ]
  },
  {
   "cell_type": "code",
   "execution_count": 10,
   "metadata": {},
   "outputs": [
    {
     "name": "stdout",
     "output_type": "stream",
     "text": [
      "Model: \"model_sgd\"\n",
      "_________________________________________________________________\n",
      "Layer (type)                 Output Shape              Param #   \n",
      "=================================================================\n",
      "input_1_sgd (InputLayer)     [(None, 28, 28, 1)]       0         \n",
      "_________________________________________________________________\n",
      "conv2d_sgd (Conv2D)          (None, 28, 28, 32)        320       \n",
      "_________________________________________________________________\n",
      "max_pooling2d_sgd (MaxPoolin (None, 14, 14, 32)        0         \n",
      "_________________________________________________________________\n",
      "conv2d_1_sgd (Conv2D)        (None, 14, 14, 16)        4624      \n",
      "_________________________________________________________________\n",
      "max_pooling2d_1_sgd (MaxPool (None, 7, 7, 16)          0         \n",
      "_________________________________________________________________\n",
      "flatten_sgd (Flatten)        (None, 784)               0         \n",
      "_________________________________________________________________\n",
      "dense_sgd (Dense)            (None, 64)                50240     \n",
      "_________________________________________________________________\n",
      "dense_1_sgd (Dense)          (None, 10)                650       \n",
      "=================================================================\n",
      "Total params: 55,834\n",
      "Trainable params: 0\n",
      "Non-trainable params: 55,834\n",
      "_________________________________________________________________\n"
     ]
    }
   ],
   "source": [
    "model_sgd.trainable = False\n",
    "model_sgd.summary()"
   ]
  },
  {
   "cell_type": "code",
   "execution_count": 11,
   "metadata": {},
   "outputs": [
    {
     "name": "stdout",
     "output_type": "stream",
     "text": [
      "Model: \"model_adam\"\n",
      "_________________________________________________________________\n",
      "Layer (type)                 Output Shape              Param #   \n",
      "=================================================================\n",
      "input_1_adam (InputLayer)    [(None, 28, 28, 1)]       0         \n",
      "_________________________________________________________________\n",
      "conv2d_adam (Conv2D)         (None, 28, 28, 32)        320       \n",
      "_________________________________________________________________\n",
      "max_pooling2d_adam (MaxPooli (None, 14, 14, 32)        0         \n",
      "_________________________________________________________________\n",
      "conv2d_1_adam (Conv2D)       (None, 14, 14, 16)        4624      \n",
      "_________________________________________________________________\n",
      "max_pooling2d_1_adam (MaxPoo (None, 7, 7, 16)          0         \n",
      "_________________________________________________________________\n",
      "flatten_adam (Flatten)       (None, 784)               0         \n",
      "_________________________________________________________________\n",
      "dense_adam (Dense)           (None, 64)                50240     \n",
      "_________________________________________________________________\n",
      "dense_1_adam (Dense)         (None, 10)                650       \n",
      "=================================================================\n",
      "Total params: 55,834\n",
      "Trainable params: 0\n",
      "Non-trainable params: 55,834\n",
      "_________________________________________________________________\n"
     ]
    }
   ],
   "source": [
    "model_adam.trainable = False\n",
    "model_adam.summary()"
   ]
  },
  {
   "cell_type": "code",
   "execution_count": 12,
   "metadata": {},
   "outputs": [
    {
     "name": "stdout",
     "output_type": "stream",
     "text": [
      "Model: \"model\"\n",
      "__________________________________________________________________________________________________\n",
      "Layer (type)                    Output Shape         Param #     Connected to                     \n",
      "==================================================================================================\n",
      "input_1_sgd (InputLayer)        [(None, 28, 28, 1)]  0                                            \n",
      "__________________________________________________________________________________________________\n",
      "input_1_adam (InputLayer)       [(None, 28, 28, 1)]  0                                            \n",
      "__________________________________________________________________________________________________\n",
      "conv2d_sgd (Conv2D)             (None, 28, 28, 32)   320         input_1_sgd[0][0]                \n",
      "__________________________________________________________________________________________________\n",
      "conv2d_adam (Conv2D)            (None, 28, 28, 32)   320         input_1_adam[0][0]               \n",
      "__________________________________________________________________________________________________\n",
      "max_pooling2d_sgd (MaxPooling2D (None, 14, 14, 32)   0           conv2d_sgd[0][0]                 \n",
      "__________________________________________________________________________________________________\n",
      "max_pooling2d_adam (MaxPooling2 (None, 14, 14, 32)   0           conv2d_adam[0][0]                \n",
      "__________________________________________________________________________________________________\n",
      "conv2d_1_sgd (Conv2D)           (None, 14, 14, 16)   4624        max_pooling2d_sgd[0][0]          \n",
      "__________________________________________________________________________________________________\n",
      "conv2d_1_adam (Conv2D)          (None, 14, 14, 16)   4624        max_pooling2d_adam[0][0]         \n",
      "__________________________________________________________________________________________________\n",
      "max_pooling2d_1_sgd (MaxPooling (None, 7, 7, 16)     0           conv2d_1_sgd[0][0]               \n",
      "__________________________________________________________________________________________________\n",
      "max_pooling2d_1_adam (MaxPoolin (None, 7, 7, 16)     0           conv2d_1_adam[0][0]              \n",
      "__________________________________________________________________________________________________\n",
      "flatten_sgd (Flatten)           (None, 784)          0           max_pooling2d_1_sgd[0][0]        \n",
      "__________________________________________________________________________________________________\n",
      "flatten_adam (Flatten)          (None, 784)          0           max_pooling2d_1_adam[0][0]       \n",
      "__________________________________________________________________________________________________\n",
      "dense_sgd (Dense)               (None, 64)           50240       flatten_sgd[0][0]                \n",
      "__________________________________________________________________________________________________\n",
      "dense_adam (Dense)              (None, 64)           50240       flatten_adam[0][0]               \n",
      "__________________________________________________________________________________________________\n",
      "concatenate (Concatenate)       (None, 128)          0           dense_sgd[0][0]                  \n",
      "                                                                 dense_adam[0][0]                 \n",
      "__________________________________________________________________________________________________\n",
      "dense (Dense)                   (None, 10)           1290        concatenate[0][0]                \n",
      "==================================================================================================\n",
      "Total params: 111,658\n",
      "Trainable params: 1,290\n",
      "Non-trainable params: 110,368\n",
      "__________________________________________________________________________________________________\n"
     ]
    }
   ],
   "source": [
    "model_ensemble = Concatenate()([model_sgd.layers[-2].output, model_adam.layers[-2].output])\n",
    "model_ensemble = Dense(10, activation='softmax')(model_ensemble)  # or 'sigmoid'\n",
    "model_ensemble = Model(inputs=[model_sgd.input, model_adam.input], outputs=model_ensemble)\n",
    "model_ensemble.summary()"
   ]
  },
  {
   "cell_type": "code",
   "execution_count": 14,
   "metadata": {},
   "outputs": [
    {
     "name": "stdout",
     "output_type": "stream",
     "text": [
      "Model: \"model\"\n",
      "__________________________________________________________________________________________________\n",
      "Layer (type)                    Output Shape         Param #     Connected to                     \n",
      "==================================================================================================\n",
      "input_1_sgd (InputLayer)        [(None, 28, 28, 1)]  0                                            \n",
      "__________________________________________________________________________________________________\n",
      "input_1_adam (InputLayer)       [(None, 28, 28, 1)]  0                                            \n",
      "__________________________________________________________________________________________________\n",
      "conv2d_sgd (Conv2D)             (None, 28, 28, 32)   320         input_1_sgd[0][0]                \n",
      "__________________________________________________________________________________________________\n",
      "conv2d_adam (Conv2D)            (None, 28, 28, 32)   320         input_1_adam[0][0]               \n",
      "__________________________________________________________________________________________________\n",
      "max_pooling2d_sgd (MaxPooling2D (None, 14, 14, 32)   0           conv2d_sgd[0][0]                 \n",
      "__________________________________________________________________________________________________\n",
      "max_pooling2d_adam (MaxPooling2 (None, 14, 14, 32)   0           conv2d_adam[0][0]                \n",
      "__________________________________________________________________________________________________\n",
      "conv2d_1_sgd (Conv2D)           (None, 14, 14, 16)   4624        max_pooling2d_sgd[0][0]          \n",
      "__________________________________________________________________________________________________\n",
      "conv2d_1_adam (Conv2D)          (None, 14, 14, 16)   4624        max_pooling2d_adam[0][0]         \n",
      "__________________________________________________________________________________________________\n",
      "max_pooling2d_1_sgd (MaxPooling (None, 7, 7, 16)     0           conv2d_1_sgd[0][0]               \n",
      "__________________________________________________________________________________________________\n",
      "max_pooling2d_1_adam (MaxPoolin (None, 7, 7, 16)     0           conv2d_1_adam[0][0]              \n",
      "__________________________________________________________________________________________________\n",
      "flatten_sgd (Flatten)           (None, 784)          0           max_pooling2d_1_sgd[0][0]        \n",
      "__________________________________________________________________________________________________\n",
      "flatten_adam (Flatten)          (None, 784)          0           max_pooling2d_1_adam[0][0]       \n",
      "__________________________________________________________________________________________________\n",
      "dense_sgd (Dense)               (None, 64)           50240       flatten_sgd[0][0]                \n",
      "__________________________________________________________________________________________________\n",
      "dense_adam (Dense)              (None, 64)           50240       flatten_adam[0][0]               \n",
      "__________________________________________________________________________________________________\n",
      "concatenate (Concatenate)       (None, 128)          0           dense_sgd[0][0]                  \n",
      "                                                                 dense_adam[0][0]                 \n",
      "__________________________________________________________________________________________________\n",
      "dense (Dense)                   (None, 10)           1290        concatenate[0][0]                \n",
      "==================================================================================================\n",
      "Total params: 111,658\n",
      "Trainable params: 1,290\n",
      "Non-trainable params: 110,368\n",
      "__________________________________________________________________________________________________\n",
      "Epoch 1/10\n",
      "125/125 [==============================] - 1s 8ms/step - loss: 1.7481 - accuracy: 0.5242 - val_loss: 0.6462 - val_accuracy: 0.8140\n",
      "Epoch 2/10\n",
      "125/125 [==============================] - 1s 8ms/step - loss: 0.4942 - accuracy: 0.8495 - val_loss: 0.4780 - val_accuracy: 0.8460\n",
      "Epoch 3/10\n",
      "125/125 [==============================] - 1s 8ms/step - loss: 0.3805 - accuracy: 0.8740 - val_loss: 0.4418 - val_accuracy: 0.8570\n",
      "Epoch 4/10\n",
      "125/125 [==============================] - 1s 8ms/step - loss: 0.3332 - accuracy: 0.8907 - val_loss: 0.4197 - val_accuracy: 0.8600\n",
      "Epoch 5/10\n",
      "125/125 [==============================] - 1s 8ms/step - loss: 0.3048 - accuracy: 0.8960 - val_loss: 0.4044 - val_accuracy: 0.8640\n",
      "Epoch 6/10\n",
      "125/125 [==============================] - 1s 8ms/step - loss: 0.2881 - accuracy: 0.8997 - val_loss: 0.4053 - val_accuracy: 0.8620\n",
      "Epoch 7/10\n",
      "125/125 [==============================] - 1s 8ms/step - loss: 0.2754 - accuracy: 0.9025 - val_loss: 0.3961 - val_accuracy: 0.8660\n",
      "Epoch 8/10\n",
      "125/125 [==============================] - 1s 8ms/step - loss: 0.2647 - accuracy: 0.9080 - val_loss: 0.3945 - val_accuracy: 0.8610\n",
      "Epoch 9/10\n",
      "125/125 [==============================] - 1s 8ms/step - loss: 0.2581 - accuracy: 0.9050 - val_loss: 0.3949 - val_accuracy: 0.8710\n",
      "Epoch 10/10\n",
      "125/125 [==============================] - 1s 9ms/step - loss: 0.2508 - accuracy: 0.9085 - val_loss: 0.3990 - val_accuracy: 0.8620\n"
     ]
    }
   ],
   "source": [
    "train_model(model_ensemble, 4000, 1000, 10, n=2, optimizer='adam')"
   ]
  },
  {
   "cell_type": "code",
   "execution_count": 15,
   "metadata": {},
   "outputs": [
    {
     "data": {
      "image/png": "[encoded data removed]",
      "text/plain": [
       "<IPython.core.display.Image object>"
      ]
     },
     "execution_count": 15,
     "metadata": {},
     "output_type": "execute_result"
    }
   ],
   "source": [
    "plot_model(model_ensemble)"
   ]
  }
 ],
 "metadata": {
  "kernelspec": {
   "display_name": "Python 3",
   "language": "python",
   "name": "python3"
  },
  "language_info": {
   "codemirror_mode": {
    "name": "ipython",
    "version": 3
   },
   "file_extension": ".py",
   "mimetype": "text/x-python",
   "name": "python",
   "nbconvert_exporter": "python",
   "pygments_lexer": "ipython3",
   "version": "3.8.2"
  }
 },
 "nbformat": 4,
 "nbformat_minor": 4
}

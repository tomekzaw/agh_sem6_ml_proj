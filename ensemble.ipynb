{
 "cells": [
  {
   "cell_type": "code",
   "execution_count": 1,
   "metadata": {},
   "outputs": [],
   "source": [
    "import numpy as np\n",
    "import tensorflow as tf\n",
    "from tensorflow.keras.models import Sequential, Model\n",
    "from tensorflow.keras.layers import Input, Dense, Activation, Conv2D, MaxPooling2D, Flatten, Dropout, Concatenate\n",
    "from tensorflow.keras.datasets import fashion_mnist, mnist\n",
    "from tensorflow.keras.optimizers import SGD\n",
    "from tensorflow.keras.backend import clear_session\n",
    "from tensorflow.keras.utils import plot_model\n",
    "from sklearn.utils import resample"
   ]
  },
  {
   "cell_type": "code",
   "execution_count": 2,
   "metadata": {},
   "outputs": [],
   "source": [
    "(X_train_org, y_train_org), (X_test_org, y_test_org) = fashion_mnist.load_data()\n",
    "\n",
    "X_train_org = X_train_org.reshape(-1, 28, 28, 1)\n",
    "X_test_org = X_test_org.reshape(-1, 28, 28, 1)\n",
    "\n",
    "X_train_org = X_train_org.astype('float32')\n",
    "X_test_org = X_test_org.astype('float32')\n",
    "X_train_org /= 255\n",
    "X_test_org /= 255\n",
    "\n",
    "X_train_org, y_train_org = resample(X_train_org, y_train_org, random_state=0)\n",
    "X_test_org, y_test_org = resample(X_test_org, y_test_org, random_state=0)"
   ]
  },
  {
   "cell_type": "code",
   "execution_count": 3,
   "metadata": {},
   "outputs": [],
   "source": [
    "def get_train_test_data(train_samples, test_samples):\n",
    "    X_train = X_train_org[:train_samples]\n",
    "    y_train = y_train_org[:train_samples]\n",
    "    X_test = X_test_org[:test_samples]\n",
    "    y_test = y_test_org[:test_samples]\n",
    "    return X_train, y_train, X_test, y_test"
   ]
  },
  {
   "cell_type": "code",
   "execution_count": 4,
   "metadata": {},
   "outputs": [],
   "source": [
    "def train_model(model, train_samples, test_samples, epochs=10, optimizer='adam', n=1):   \n",
    "    X_train, y_train, X_test, y_test = get_train_test_data(train_samples, test_samples)  \n",
    "    \n",
    "    if n > 1:\n",
    "        X_train = [X_train] * n\n",
    "        X_test = [X_test] * n\n",
    "    \n",
    "    clear_session()\n",
    "    np.random.seed(0x859)\n",
    "    tf.random.set_seed(0x859)\n",
    "    \n",
    "    model.summary()    \n",
    "    model.compile(optimizer=optimizer,\n",
    "                  loss='sparse_categorical_crossentropy',\n",
    "                  metrics=['accuracy'])\n",
    "    model.fit(X_train, y_train, epochs=epochs, validation_data=(X_test, y_test), verbose=True)"
   ]
  },
  {
   "cell_type": "code",
   "execution_count": 5,
   "metadata": {},
   "outputs": [],
   "source": [
    "model_sgd_input = Input(shape=(28, 28, 1))\n",
    "model_sgd = Conv2D(32, (3,3), padding='same', activation='relu', input_shape=(28, 28, 1))(model_sgd_input)\n",
    "model_sgd = MaxPooling2D((2, 2))(model_sgd)\n",
    "model_sgd = Conv2D(16, (3,3), padding='same', activation='relu')(model_sgd)\n",
    "model_sgd = MaxPooling2D((2, 2))(model_sgd)\n",
    "model_sgd = Flatten()(model_sgd)\n",
    "model_sgd = Dense(64, activation='relu')(model_sgd)\n",
    "model_sgd = Dense(10, activation='softmax')(model_sgd)\n",
    "model_sgd = Model(inputs=model_sgd_input, outputs=model_sgd, name='model_sgd')"
   ]
  },
  {
   "cell_type": "code",
   "execution_count": 6,
   "metadata": {},
   "outputs": [
    {
     "name": "stdout",
     "output_type": "stream",
     "text": [
      "Model: \"model_sgd\"\n",
      "_________________________________________________________________\n",
      "Layer (type)                 Output Shape              Param #   \n",
      "=================================================================\n",
      "input_1 (InputLayer)         [(None, 28, 28, 1)]       0         \n",
      "_________________________________________________________________\n",
      "conv2d (Conv2D)              (None, 28, 28, 32)        320       \n",
      "_________________________________________________________________\n",
      "max_pooling2d (MaxPooling2D) (None, 14, 14, 32)        0         \n",
      "_________________________________________________________________\n",
      "conv2d_1 (Conv2D)            (None, 14, 14, 16)        4624      \n",
      "_________________________________________________________________\n",
      "max_pooling2d_1 (MaxPooling2 (None, 7, 7, 16)          0         \n",
      "_________________________________________________________________\n",
      "flatten (Flatten)            (None, 784)               0         \n",
      "_________________________________________________________________\n",
      "dense (Dense)                (None, 64)                50240     \n",
      "_________________________________________________________________\n",
      "dense_1 (Dense)              (None, 10)                650       \n",
      "=================================================================\n",
      "Total params: 55,834\n",
      "Trainable params: 55,834\n",
      "Non-trainable params: 0\n",
      "_________________________________________________________________\n",
      "Epoch 1/10\n",
      "125/125 [==============================] - 2s 17ms/step - loss: 1.1663 - accuracy: 0.5805 - val_loss: 0.7258 - val_accuracy: 0.7340\n",
      "Epoch 2/10\n",
      "125/125 [==============================] - 3s 24ms/step - loss: 0.6778 - accuracy: 0.7523 - val_loss: 0.5686 - val_accuracy: 0.7980\n",
      "Epoch 3/10\n",
      "125/125 [==============================] - 2s 17ms/step - loss: 0.5633 - accuracy: 0.7900 - val_loss: 0.5274 - val_accuracy: 0.7980\n",
      "Epoch 4/10\n",
      "125/125 [==============================] - 2s 17ms/step - loss: 0.5027 - accuracy: 0.8150 - val_loss: 0.5212 - val_accuracy: 0.8090\n",
      "Epoch 5/10\n",
      "125/125 [==============================] - 2s 16ms/step - loss: 0.4547 - accuracy: 0.8335 - val_loss: 0.4751 - val_accuracy: 0.8250\n",
      "Epoch 6/10\n",
      "125/125 [==============================] - 2s 16ms/step - loss: 0.4228 - accuracy: 0.8475 - val_loss: 0.4725 - val_accuracy: 0.8230\n",
      "Epoch 7/10\n",
      "125/125 [==============================] - 2s 16ms/step - loss: 0.3886 - accuracy: 0.8550 - val_loss: 0.4730 - val_accuracy: 0.8200\n",
      "Epoch 8/10\n",
      "125/125 [==============================] - 2s 16ms/step - loss: 0.3685 - accuracy: 0.8643 - val_loss: 0.4068 - val_accuracy: 0.8440\n",
      "Epoch 9/10\n",
      "125/125 [==============================] - 2s 17ms/step - loss: 0.3399 - accuracy: 0.8727 - val_loss: 0.4348 - val_accuracy: 0.8420\n",
      "Epoch 10/10\n",
      "125/125 [==============================] - 2s 17ms/step - loss: 0.3141 - accuracy: 0.8813 - val_loss: 0.4112 - val_accuracy: 0.8490\n"
     ]
    }
   ],
   "source": [
    "sgd = SGD(learning_rate=0.01, momentum=0.9, nesterov=True, name=\"SGD\")\n",
    "\n",
    "train_model(model_sgd, 4000, 1000, 10, optimizer=sgd)"
   ]
  },
  {
   "cell_type": "code",
   "execution_count": 7,
   "metadata": {},
   "outputs": [],
   "source": [
    "model_adam_input = Input(shape=(28, 28, 1))\n",
    "model_adam = Conv2D(32, (3,3), padding='same', activation='relu', input_shape=(28, 28, 1))(model_adam_input)\n",
    "model_adam = MaxPooling2D((2, 2))(model_adam)\n",
    "model_adam = Conv2D(16, (3,3), padding='same', activation='relu')(model_adam)\n",
    "model_adam = MaxPooling2D((2, 2))(model_adam)\n",
    "model_adam = Flatten()(model_adam)\n",
    "model_adam = Dense(64, activation='relu')(model_adam)\n",
    "model_adam = Dense(10, activation='softmax')(model_adam)\n",
    "model_adam = Model(inputs=model_adam_input, outputs=model_adam, name='model_adam')"
   ]
  },
  {
   "cell_type": "code",
   "execution_count": 8,
   "metadata": {},
   "outputs": [
    {
     "name": "stdout",
     "output_type": "stream",
     "text": [
      "Model: \"model_adam\"\n",
      "_________________________________________________________________\n",
      "Layer (type)                 Output Shape              Param #   \n",
      "=================================================================\n",
      "input_1 (InputLayer)         [(None, 28, 28, 1)]       0         \n",
      "_________________________________________________________________\n",
      "conv2d (Conv2D)              (None, 28, 28, 32)        320       \n",
      "_________________________________________________________________\n",
      "max_pooling2d (MaxPooling2D) (None, 14, 14, 32)        0         \n",
      "_________________________________________________________________\n",
      "conv2d_1 (Conv2D)            (None, 14, 14, 16)        4624      \n",
      "_________________________________________________________________\n",
      "max_pooling2d_1 (MaxPooling2 (None, 7, 7, 16)          0         \n",
      "_________________________________________________________________\n",
      "flatten (Flatten)            (None, 784)               0         \n",
      "_________________________________________________________________\n",
      "dense (Dense)                (None, 64)                50240     \n",
      "_________________________________________________________________\n",
      "dense_1 (Dense)              (None, 10)                650       \n",
      "=================================================================\n",
      "Total params: 55,834\n",
      "Trainable params: 55,834\n",
      "Non-trainable params: 0\n",
      "_________________________________________________________________\n",
      "Epoch 1/10\n",
      "125/125 [==============================] - 2s 17ms/step - loss: 1.0582 - accuracy: 0.6095 - val_loss: 0.7249 - val_accuracy: 0.7520\n",
      "Epoch 2/10\n",
      "125/125 [==============================] - 2s 16ms/step - loss: 0.6385 - accuracy: 0.7685 - val_loss: 0.5636 - val_accuracy: 0.8080\n",
      "Epoch 3/10\n",
      "125/125 [==============================] - 2s 17ms/step - loss: 0.5517 - accuracy: 0.7933 - val_loss: 0.5350 - val_accuracy: 0.7920\n",
      "Epoch 4/10\n",
      "125/125 [==============================] - 2s 16ms/step - loss: 0.4709 - accuracy: 0.8313 - val_loss: 0.4799 - val_accuracy: 0.8310\n",
      "Epoch 5/10\n",
      "125/125 [==============================] - 2s 17ms/step - loss: 0.4257 - accuracy: 0.8390 - val_loss: 0.4683 - val_accuracy: 0.8290\n",
      "Epoch 6/10\n",
      "125/125 [==============================] - 2s 18ms/step - loss: 0.3929 - accuracy: 0.8558 - val_loss: 0.4437 - val_accuracy: 0.8420\n",
      "Epoch 7/10\n",
      "125/125 [==============================] - 2s 17ms/step - loss: 0.3629 - accuracy: 0.8677 - val_loss: 0.4937 - val_accuracy: 0.8130\n",
      "Epoch 8/10\n",
      "125/125 [==============================] - 2s 15ms/step - loss: 0.3413 - accuracy: 0.8752 - val_loss: 0.4141 - val_accuracy: 0.8550\n",
      "Epoch 9/10\n",
      "125/125 [==============================] - 2s 15ms/step - loss: 0.3087 - accuracy: 0.8815 - val_loss: 0.4230 - val_accuracy: 0.8530\n",
      "Epoch 10/10\n",
      "125/125 [==============================] - 2s 16ms/step - loss: 0.2993 - accuracy: 0.8915 - val_loss: 0.4124 - val_accuracy: 0.8560\n"
     ]
    }
   ],
   "source": [
    "train_model(model_adam, 4000, 1000, 10, 'adam')"
   ]
  },
  {
   "cell_type": "code",
   "execution_count": 9,
   "metadata": {},
   "outputs": [],
   "source": [
    "for layer in model_sgd._layers:\n",
    "    layer._name = layer.name + '_sgd'\n",
    "    \n",
    "for layer in model_adam._layers:\n",
    "    layer._name = layer.name + '_adam'"
   ]
  },
  {
   "cell_type": "code",
   "execution_count": 10,
   "metadata": {},
   "outputs": [
    {
     "name": "stdout",
     "output_type": "stream",
     "text": [
      "Model: \"model_sgd\"\n",
      "_________________________________________________________________\n",
      "Layer (type)                 Output Shape              Param #   \n",
      "=================================================================\n",
      "input_1_sgd (InputLayer)     [(None, 28, 28, 1)]       0         \n",
      "_________________________________________________________________\n",
      "conv2d_sgd (Conv2D)          (None, 28, 28, 32)        320       \n",
      "_________________________________________________________________\n",
      "max_pooling2d_sgd (MaxPoolin (None, 14, 14, 32)        0         \n",
      "_________________________________________________________________\n",
      "conv2d_1_sgd (Conv2D)        (None, 14, 14, 16)        4624      \n",
      "_________________________________________________________________\n",
      "max_pooling2d_1_sgd (MaxPool (None, 7, 7, 16)          0         \n",
      "_________________________________________________________________\n",
      "flatten_sgd (Flatten)        (None, 784)               0         \n",
      "_________________________________________________________________\n",
      "dense_sgd (Dense)            (None, 64)                50240     \n",
      "_________________________________________________________________\n",
      "dense_1_sgd (Dense)          (None, 10)                650       \n",
      "=================================================================\n",
      "Total params: 55,834\n",
      "Trainable params: 0\n",
      "Non-trainable params: 55,834\n",
      "_________________________________________________________________\n"
     ]
    }
   ],
   "source": [
    "model_sgd.trainable = False\n",
    "model_sgd.summary()"
   ]
  },
  {
   "cell_type": "code",
   "execution_count": 11,
   "metadata": {},
   "outputs": [
    {
     "name": "stdout",
     "output_type": "stream",
     "text": [
      "Model: \"model_adam\"\n",
      "_________________________________________________________________\n",
      "Layer (type)                 Output Shape              Param #   \n",
      "=================================================================\n",
      "input_1_adam (InputLayer)    [(None, 28, 28, 1)]       0         \n",
      "_________________________________________________________________\n",
      "conv2d_adam (Conv2D)         (None, 28, 28, 32)        320       \n",
      "_________________________________________________________________\n",
      "max_pooling2d_adam (MaxPooli (None, 14, 14, 32)        0         \n",
      "_________________________________________________________________\n",
      "conv2d_1_adam (Conv2D)       (None, 14, 14, 16)        4624      \n",
      "_________________________________________________________________\n",
      "max_pooling2d_1_adam (MaxPoo (None, 7, 7, 16)          0         \n",
      "_________________________________________________________________\n",
      "flatten_adam (Flatten)       (None, 784)               0         \n",
      "_________________________________________________________________\n",
      "dense_adam (Dense)           (None, 64)                50240     \n",
      "_________________________________________________________________\n",
      "dense_1_adam (Dense)         (None, 10)                650       \n",
      "=================================================================\n",
      "Total params: 55,834\n",
      "Trainable params: 0\n",
      "Non-trainable params: 55,834\n",
      "_________________________________________________________________\n"
     ]
    }
   ],
   "source": [
    "model_adam.trainable = False\n",
    "model_adam.summary()"
   ]
  },
  {
   "cell_type": "code",
   "execution_count": 12,
   "metadata": {},
   "outputs": [
    {
     "name": "stdout",
     "output_type": "stream",
     "text": [
      "Model: \"model\"\n",
      "__________________________________________________________________________________________________\n",
      "Layer (type)                    Output Shape         Param #     Connected to                     \n",
      "==================================================================================================\n",
      "input_1_sgd (InputLayer)        [(None, 28, 28, 1)]  0                                            \n",
      "__________________________________________________________________________________________________\n",
      "input_1_adam (InputLayer)       [(None, 28, 28, 1)]  0                                            \n",
      "__________________________________________________________________________________________________\n",
      "conv2d_sgd (Conv2D)             (None, 28, 28, 32)   320         input_1_sgd[0][0]                \n",
      "__________________________________________________________________________________________________\n",
      "conv2d_adam (Conv2D)            (None, 28, 28, 32)   320         input_1_adam[0][0]               \n",
      "__________________________________________________________________________________________________\n",
      "max_pooling2d_sgd (MaxPooling2D (None, 14, 14, 32)   0           conv2d_sgd[0][0]                 \n",
      "__________________________________________________________________________________________________\n",
      "max_pooling2d_adam (MaxPooling2 (None, 14, 14, 32)   0           conv2d_adam[0][0]                \n",
      "__________________________________________________________________________________________________\n",
      "conv2d_1_sgd (Conv2D)           (None, 14, 14, 16)   4624        max_pooling2d_sgd[0][0]          \n",
      "__________________________________________________________________________________________________\n",
      "conv2d_1_adam (Conv2D)          (None, 14, 14, 16)   4624        max_pooling2d_adam[0][0]         \n",
      "__________________________________________________________________________________________________\n",
      "max_pooling2d_1_sgd (MaxPooling (None, 7, 7, 16)     0           conv2d_1_sgd[0][0]               \n",
      "__________________________________________________________________________________________________\n",
      "max_pooling2d_1_adam (MaxPoolin (None, 7, 7, 16)     0           conv2d_1_adam[0][0]              \n",
      "__________________________________________________________________________________________________\n",
      "flatten_sgd (Flatten)           (None, 784)          0           max_pooling2d_1_sgd[0][0]        \n",
      "__________________________________________________________________________________________________\n",
      "flatten_adam (Flatten)          (None, 784)          0           max_pooling2d_1_adam[0][0]       \n",
      "__________________________________________________________________________________________________\n",
      "dense_sgd (Dense)               (None, 64)           50240       flatten_sgd[0][0]                \n",
      "__________________________________________________________________________________________________\n",
      "dense_adam (Dense)              (None, 64)           50240       flatten_adam[0][0]               \n",
      "__________________________________________________________________________________________________\n",
      "dense_1_sgd (Dense)             (None, 10)           650         dense_sgd[0][0]                  \n",
      "__________________________________________________________________________________________________\n",
      "dense_1_adam (Dense)            (None, 10)           650         dense_adam[0][0]                 \n",
      "__________________________________________________________________________________________________\n",
      "concatenate (Concatenate)       (None, 20)           0           dense_1_sgd[0][0]                \n",
      "                                                                 dense_1_adam[0][0]               \n",
      "__________________________________________________________________________________________________\n",
      "dense (Dense)                   (None, 10)           210         concatenate[0][0]                \n",
      "==================================================================================================\n",
      "Total params: 111,878\n",
      "Trainable params: 210\n",
      "Non-trainable params: 111,668\n",
      "__________________________________________________________________________________________________\n"
     ]
    }
   ],
   "source": [
    "model_ensemble = Concatenate()([model_sgd.layers[-1].output, model_adam.layers[-1].output])\n",
    "model_ensemble = Dense(10, activation='softmax')(model_ensemble)  # or 'sigmoid'\n",
    "model_ensemble = Model(inputs=[model_sgd.input, model_adam.input], outputs=model_ensemble)\n",
    "model_ensemble.summary()"
   ]
  },
  {
   "cell_type": "code",
   "execution_count": 13,
   "metadata": {},
   "outputs": [],
   "source": [
    "# X_train, y_train, X_test, y_test = get_train_test_data(4000, 1000)    \n",
    "    \n",
    "# clear_session()\n",
    "# np.random.seed(0x859)\n",
    "# tf.random.set_seed(0x859)\n",
    "    \n",
    "# model.summary()    \n",
    "# model.compile(optimizer='adam',\n",
    "#               loss='sparse_categorical_crossentropy',\n",
    "#               metrics=['accuracy'])\n",
    "\n",
    "# epochs = 10\n",
    "\n",
    "# model.fit([X_train, X_train], y_train, epochs=epochs, validation_data=([X_test, X_test], y_test), verbose=True)"
   ]
  },
  {
   "cell_type": "code",
   "execution_count": 14,
   "metadata": {},
   "outputs": [
    {
     "name": "stdout",
     "output_type": "stream",
     "text": [
      "Model: \"model\"\n",
      "__________________________________________________________________________________________________\n",
      "Layer (type)                    Output Shape         Param #     Connected to                     \n",
      "==================================================================================================\n",
      "input_1_sgd (InputLayer)        [(None, 28, 28, 1)]  0                                            \n",
      "__________________________________________________________________________________________________\n",
      "input_1_adam (InputLayer)       [(None, 28, 28, 1)]  0                                            \n",
      "__________________________________________________________________________________________________\n",
      "conv2d_sgd (Conv2D)             (None, 28, 28, 32)   320         input_1_sgd[0][0]                \n",
      "__________________________________________________________________________________________________\n",
      "conv2d_adam (Conv2D)            (None, 28, 28, 32)   320         input_1_adam[0][0]               \n",
      "__________________________________________________________________________________________________\n",
      "max_pooling2d_sgd (MaxPooling2D (None, 14, 14, 32)   0           conv2d_sgd[0][0]                 \n",
      "__________________________________________________________________________________________________\n",
      "max_pooling2d_adam (MaxPooling2 (None, 14, 14, 32)   0           conv2d_adam[0][0]                \n",
      "__________________________________________________________________________________________________\n",
      "conv2d_1_sgd (Conv2D)           (None, 14, 14, 16)   4624        max_pooling2d_sgd[0][0]          \n",
      "__________________________________________________________________________________________________\n",
      "conv2d_1_adam (Conv2D)          (None, 14, 14, 16)   4624        max_pooling2d_adam[0][0]         \n",
      "__________________________________________________________________________________________________\n",
      "max_pooling2d_1_sgd (MaxPooling (None, 7, 7, 16)     0           conv2d_1_sgd[0][0]               \n",
      "__________________________________________________________________________________________________\n",
      "max_pooling2d_1_adam (MaxPoolin (None, 7, 7, 16)     0           conv2d_1_adam[0][0]              \n",
      "__________________________________________________________________________________________________\n",
      "flatten_sgd (Flatten)           (None, 784)          0           max_pooling2d_1_sgd[0][0]        \n",
      "__________________________________________________________________________________________________\n",
      "flatten_adam (Flatten)          (None, 784)          0           max_pooling2d_1_adam[0][0]       \n",
      "__________________________________________________________________________________________________\n",
      "dense_sgd (Dense)               (None, 64)           50240       flatten_sgd[0][0]                \n",
      "__________________________________________________________________________________________________\n",
      "dense_adam (Dense)              (None, 64)           50240       flatten_adam[0][0]               \n",
      "__________________________________________________________________________________________________\n",
      "dense_1_sgd (Dense)             (None, 10)           650         dense_sgd[0][0]                  \n",
      "__________________________________________________________________________________________________\n",
      "dense_1_adam (Dense)            (None, 10)           650         dense_adam[0][0]                 \n",
      "__________________________________________________________________________________________________\n",
      "concatenate (Concatenate)       (None, 20)           0           dense_1_sgd[0][0]                \n",
      "                                                                 dense_1_adam[0][0]               \n",
      "__________________________________________________________________________________________________\n",
      "dense (Dense)                   (None, 10)           210         concatenate[0][0]                \n",
      "==================================================================================================\n",
      "Total params: 111,878\n",
      "Trainable params: 210\n",
      "Non-trainable params: 111,668\n",
      "__________________________________________________________________________________________________\n",
      "Epoch 1/10\n",
      "125/125 [==============================] - 1s 9ms/step - loss: 1.9276 - accuracy: 0.5315 - val_loss: 1.8137 - val_accuracy: 0.6760\n",
      "Epoch 2/10\n",
      "125/125 [==============================] - 1s 8ms/step - loss: 1.6410 - accuracy: 0.8320 - val_loss: 1.5560 - val_accuracy: 0.8470\n",
      "Epoch 3/10\n",
      "125/125 [==============================] - 1s 8ms/step - loss: 1.3907 - accuracy: 0.9075 - val_loss: 1.3353 - val_accuracy: 0.8560\n",
      "Epoch 4/10\n",
      "125/125 [==============================] - 1s 8ms/step - loss: 1.1784 - accuracy: 0.9120 - val_loss: 1.1517 - val_accuracy: 0.8570\n",
      "Epoch 5/10\n",
      "125/125 [==============================] - 1s 8ms/step - loss: 1.0026 - accuracy: 0.9143 - val_loss: 1.0029 - val_accuracy: 0.8610\n",
      "Epoch 6/10\n",
      "125/125 [==============================] - 1s 9ms/step - loss: 0.8605 - accuracy: 0.9140 - val_loss: 0.8841 - val_accuracy: 0.8610\n",
      "Epoch 7/10\n",
      "125/125 [==============================] - 1s 8ms/step - loss: 0.7470 - accuracy: 0.9128 - val_loss: 0.7904 - val_accuracy: 0.8630\n",
      "Epoch 8/10\n",
      "125/125 [==============================] - 1s 12ms/step - loss: 0.6571 - accuracy: 0.9135 - val_loss: 0.7171 - val_accuracy: 0.8670\n",
      "Epoch 9/10\n",
      "125/125 [==============================] - 1s 9ms/step - loss: 0.5858 - accuracy: 0.9140 - val_loss: 0.6592 - val_accuracy: 0.8670\n",
      "Epoch 10/10\n",
      "125/125 [==============================] - 1s 9ms/step - loss: 0.5291 - accuracy: 0.9143 - val_loss: 0.6136 - val_accuracy: 0.8680\n"
     ]
    }
   ],
   "source": [
    "train_model(model_ensemble, 4000, 1000, 10, n=2, optimizer='adam')"
   ]
  },
  {
   "cell_type": "code",
   "execution_count": 15,
   "metadata": {},
   "outputs": [
    {
     "data": {
      "image/png": "[encoded data removed]",
      "text/plain": [
       "<IPython.core.display.Image object>"
      ]
     },
     "execution_count": 15,
     "metadata": {},
     "output_type": "execute_result"
    }
   ],
   "source": [
    "plot_model(model_ensemble)"
   ]
  }
 ],
 "metadata": {
  "kernelspec": {
   "display_name": "Python 3",
   "language": "python",
   "name": "python3"
  },
  "language_info": {
   "codemirror_mode": {
    "name": "ipython",
    "version": 3
   },
   "file_extension": ".py",
   "mimetype": "text/x-python",
   "name": "python",
   "nbconvert_exporter": "python",
   "pygments_lexer": "ipython3",
   "version": "3.8.2"
  }
 },
 "nbformat": 4,
 "nbformat_minor": 4
}
